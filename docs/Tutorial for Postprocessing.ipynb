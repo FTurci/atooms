{
 "cells": [
  {
   "cell_type": "markdown",
   "metadata": {},
   "source": [
    "# Atooms and Postprocessing \n",
    "\n",
    "In this notebook, we are going to show how to perform standard analysis of molecular dynamics trajectories using the **atooms** and **postprocessing** libraries."
   ]
  },
  {
   "cell_type": "markdown",
   "metadata": {},
   "source": [
    "We start with loading common libraries for plotting and path handling."
   ]
  },
  {
   "cell_type": "code",
   "execution_count": 1,
   "metadata": {
    "collapsed": true
   },
   "outputs": [],
   "source": [
    "%matplotlib inline\n",
    "import pylab as pl\n",
    "import sys"
   ]
  },
  {
   "cell_type": "markdown",
   "metadata": {},
   "source": [
    "We the import the **postprocessing** libarry (available for Python 2.x) and the trajectory class from **atooms**. In this particular case, we will read an XYZ file, so we load the *TrajectoryXYZ* class"
   ]
  },
  {
   "cell_type": "code",
   "execution_count": 2,
   "metadata": {
    "collapsed": true
   },
   "outputs": [],
   "source": [
    "from atooms import postprocessing as pp\n",
    "from atooms.trajectory import TrajectoryXYZ "
   ]
  },
  {
   "cell_type": "markdown",
   "metadata": {},
   "source": [
    "We consider an example trajectory, located in the postprocessing package."
   ]
  },
  {
   "cell_type": "code",
   "execution_count": 7,
   "metadata": {
    "collapsed": true
   },
   "outputs": [],
   "source": [
    "path = \"../../postprocessing/data/kalj-small.xyz\""
   ]
  },
  {
   "cell_type": "markdown",
   "metadata": {},
   "source": [
    "## Handle a trajectory"
   ]
  },
  {
   "cell_type": "markdown",
   "metadata": {},
   "source": [
    "A trajectory is an object with many properites. To load a trajectory, is sufficient to create in instance of the class as follows:"
   ]
  },
  {
   "cell_type": "code",
   "execution_count": 8,
   "metadata": {
    "collapsed": false
   },
   "outputs": [],
   "source": [
    "tj = TrajectoryXYZ(path)"
   ]
  },
  {
   "cell_type": "markdown",
   "metadata": {},
   "source": [
    "The trajectory is a list-like object, in the sense that it can be sliced. Every slice contains a *System* object, which is a full configration of the system"
   ]
  },
  {
   "cell_type": "code",
   "execution_count": 9,
   "metadata": {
    "collapsed": false
   },
   "outputs": [
    {
     "name": "stdout",
     "output_type": "stream",
     "text": [
      "<atooms.system.system.System object at 0x2aaade1ccf90>\n"
     ]
    }
   ],
   "source": [
    "print tj[10]"
   ]
  },
  {
   "cell_type": "code",
   "execution_count": 6,
   "metadata": {
    "collapsed": false
   },
   "outputs": [
    {
     "data": {
      "text/plain": [
       "[<atooms.system.system.System at 0x10a3d1350>,\n",
       " <atooms.system.system.System at 0x10a3e1950>,\n",
       " <atooms.system.system.System at 0x10a3f0f10>,\n",
       " <atooms.system.system.System at 0x10a4075d0>,\n",
       " <atooms.system.system.System at 0x10a417c50>]"
      ]
     },
     "execution_count": 6,
     "metadata": {},
     "output_type": "execute_result"
    }
   ],
   "source": [
    "## To clarify: if I slice [a:b] I do not obtain a trajectory from a to b but a list\n",
    "tj[10:15]"
   ]
  },
  {
   "cell_type": "markdown",
   "metadata": {},
   "source": [
    "If the trajectory contains metadata, these can be retrieved directly:"
   ]
  },
  {
   "cell_type": "code",
   "execution_count": 7,
   "metadata": {
    "collapsed": false
   },
   "outputs": [
    {
     "name": "stdout",
     "output_type": "stream",
     "text": [
      "Timestep during the trajectory: 0.001\n",
      "Steps for the 3rd frame: 2000\n",
      "{'ndim': 3, 'npart': 150, 'cell': [5.0, 5.0, 5.0], 'step': 0, 'dt': 0.001, 'columns': ['name', 'pos']}\n"
     ]
    }
   ],
   "source": [
    "print \"Timestep during the trajectory:\",tj.timestep\n",
    "print \"Steps for the 3rd frame:\", tj.steps[2]\n",
    "print tj._read_metadata(0)"
   ]
  },
  {
   "cell_type": "markdown",
   "metadata": {},
   "source": [
    "## Analysis of the trajectory\n",
    "\n",
    "Now that we have constructed a trajectory object, we can proceed to the analysis. We are going to consider two main aspects of the analysis:\n",
    "* structural correlations\n",
    "* dynamical correlations"
   ]
  },
  {
   "cell_type": "markdown",
   "metadata": {},
   "source": [
    "### Structural correlations : computing the *radial distribution function*"
   ]
  },
  {
   "cell_type": "markdown",
   "metadata": {},
   "source": [
    "The radial distribution function *g(r)* describes how density varies as a function of the radial distance from a reference particle. In liquids, one normally averages over all particles, obtaining a descriptor of the probability to find a second particle a distance $r$ from a given particle, relative to that of the ideal gas.\n",
    "\n",
    "For $N$ particles of the same type at density $\\rho$ it is"
   ]
  },
  {
   "cell_type": "markdown",
   "metadata": {},
   "source": [
    "$$g(r)=\\frac{1}{N\\rho}\\left\\langle\\sum_i^{N}\\sum_{i\\neq j}\\delta(r-|\\mathbf{r}_i-\\mathbf{r}_j|)\\right\\rangle$$."
   ]
  },
  {
   "cell_type": "markdown",
   "metadata": {},
   "source": [
    "Notice that the average number of particles with a distance $R$, i.e. the average **coordination** $n(R)$,  can be computed from the radial distribution function via integration in spherical coordinates (for 3D systems)\n",
    "\n",
    "$$n(R)=4\\pi \\rho\\int_0^R g(r)r^2 dr$$"
   ]
  },
  {
   "cell_type": "markdown",
   "metadata": {},
   "source": [
    "In *postprocessing* the radial distribution function is a correlation object that acts on a trajectory. In order to compute it, we simpy construct the object, specifying some parameters, and then run the calculation with the **.do()** method"
   ]
  },
  {
   "cell_type": "code",
   "execution_count": 8,
   "metadata": {
    "collapsed": true
   },
   "outputs": [],
   "source": [
    "gr = pp.RadialDistributionFunction(tj,norigins=5,dr=0.04)\n",
    "gr.do()"
   ]
  },
  {
   "cell_type": "markdown",
   "metadata": {},
   "source": [
    "Once the calculation is performed, the radial distribution object gr contains (like most correlators in *postprocessing*) two arrays:\n",
    "* the **grid** array contains the indipendent variable, binned according to our input parameters (in this case, the smalleste space interval that we resolve, *dr*\n",
    "* the **value** array contains the actual value of teh computation, in this case the values of the g(r)\n",
    "\n",
    "We can directly plot the results with"
   ]
  },
  {
   "cell_type": "code",
   "execution_count": 10,
   "metadata": {
    "collapsed": false
   },
   "outputs": [
    {
     "data": {
      "image/png": "[encoded data removed]",
      "text/plain": [
       "<Figure size 432x288 with 1 Axes>"
      ]
     },
     "metadata": {},
     "output_type": "display_data"
    }
   ],
   "source": [
    "pl.plot(gr.grid,gr.value)\n",
    "pl.xlabel(\"r\"), pl.ylabel(\"g(r)\");"
   ]
  },
  {
   "cell_type": "markdown",
   "metadata": {},
   "source": [
    "As we can see, the function displays two narrow peaks around $r=1$ and a broader peak further away. The several peaks correspond to the fact that the trajectory actualy contains two types of particles, noted as \"A\" and \"B\". \n",
    "\n",
    "We can compute separate distribution functions for the A and B particles and also the cross distribution funtion for the probability to find a particle B at distance $r$ from particel $A$ using the **Partial** class in *postprocessing*:"
   ]
  },
  {
   "cell_type": "code",
   "execution_count": 12,
   "metadata": {
    "collapsed": true
   },
   "outputs": [],
   "source": [
    "gr = pp.Partial(pp.RadialDistributionFunction,species=['A','B'],trajectory=tj,norigins=100)\n",
    "gr.do() "
   ]
  },
  {
   "cell_type": "markdown",
   "metadata": {},
   "source": [
    "In this case, the result contains a dictionary *gr.partial*:"
   ]
  },
  {
   "cell_type": "code",
   "execution_count": 13,
   "metadata": {
    "collapsed": false
   },
   "outputs": [
    {
     "data": {
      "text/plain": [
       "dict"
      ]
     },
     "execution_count": 13,
     "metadata": {},
     "output_type": "execute_result"
    }
   ],
   "source": [
    "type(gr.partial)"
   ]
  },
  {
   "cell_type": "markdown",
   "metadata": {},
   "source": [
    "We can treat the result as any norrmal dictionary: "
   ]
  },
  {
   "cell_type": "code",
   "execution_count": 14,
   "metadata": {
    "collapsed": false
   },
   "outputs": [
    {
     "data": {
      "image/png": "[encoded data removed]",
      "text/plain": [
       "<Figure size 432x288 with 1 Axes>"
      ]
     },
     "metadata": {},
     "output_type": "display_data"
    }
   ],
   "source": [
    "for key,g in gr.partial.items(): \n",
    "    pl.plot(g.grid, g.value, label=str(\"\".join(key)))\n",
    "pl.legend(),pl.xlabel(\"r\"), pl.ylabel(r\"$g_{\\alpha\\beta}(r)$\");\n"
   ]
  },
  {
   "cell_type": "markdown",
   "metadata": {},
   "source": [
    "Sometimes, it can be useful to analyse only sections of a trajectory. To this purpose, one can **slice** the trajectory using *atooms* and analyse individual frames or subsets of frames. "
   ]
  },
  {
   "cell_type": "code",
   "execution_count": 74,
   "metadata": {
    "collapsed": false
   },
   "outputs": [
    {
     "data": {
      "image/png": "[encoded data removed]",
      "text/plain": [
       "<Figure size 432x288 with 1 Axes>"
      ]
     },
     "metadata": {},
     "output_type": "display_data"
    }
   ],
   "source": [
    "from atooms import trajectory\n",
    "\n",
    "t =  trajectory.Sliced(tj,slice(-1,len(tj))) # analyse only the last frame\n",
    "gr = pp.RadialDistributionFunction(t,dr=0.04)\n",
    "gr.do()\n",
    "pl.plot(gr.grid,gr.value)\n",
    "pl.xlabel(\"r\"), pl.ylabel(\"g(r)\"); # notice that the g(r) is more noisy"
   ]
  },
  {
   "cell_type": "markdown",
   "metadata": {},
   "source": [
    "### Dynamical Correlations: computing  the Mean Square Displacement"
   ]
  },
  {
   "cell_type": "markdown",
   "metadata": {},
   "source": [
    "A very similar kind of anaysis can be performed on dynamical quantities, which quantify correlations in time.\n",
    "\n",
    "The most elementary of such quantities is the mean squared displacement (MSD). This is defined as\n",
    "\n",
    "$$ MSD(t)= \\langle \\mathbf{r}(t-t_0) - \\mathbf{r}(t_0)\\rangle$$\n",
    "\n",
    "The average is normally perfomed over all the paricles $N$ and over multiple values for the *origin* of time $t_0$.\n",
    "\n",
    "The analysis process is now familiar. First we cosntruct the msd object and then perform the calculation with **.do**."
   ]
  },
  {
   "cell_type": "code",
   "execution_count": 16,
   "metadata": {
    "collapsed": true
   },
   "outputs": [],
   "source": [
    "msd = pp.MeanSquareDisplacement(tj)\n",
    "msd.do()"
   ]
  },
  {
   "cell_type": "code",
   "execution_count": 96,
   "metadata": {
    "collapsed": false
   },
   "outputs": [
    {
     "data": {
      "image/png": "[encoded data removed]",
      "text/plain": [
       "<Figure size 432x288 with 1 Axes>"
      ]
     },
     "metadata": {},
     "output_type": "display_data"
    }
   ],
   "source": [
    "pl.loglog(msd.grid, msd.value,'o')\n",
    "pl.xlabel(\"t\"), pl.ylabel(\"MSD(t)\");"
   ]
  },
  {
   "cell_type": "markdown",
   "metadata": {},
   "source": [
    "Again, we can compute partial mean square displacements using the **Partial** class"
   ]
  },
  {
   "cell_type": "code",
   "execution_count": 97,
   "metadata": {
    "collapsed": false
   },
   "outputs": [
    {
     "data": {
      "image/png": "[encoded data removed]",
      "text/plain": [
       "<Figure size 432x288 with 1 Axes>"
      ]
     },
     "metadata": {},
     "output_type": "display_data"
    }
   ],
   "source": [
    "msds = pp.Partial(pp.MeanSquareDisplacement, species=['A','B'],trajectory=tj,norigins=100)\n",
    "msds.do()\n",
    "pl.loglog(msds.partial['A'].grid,msds.partial['A'].value,'o')\n",
    "pl.loglog(msds.partial['B'].grid,msds.partial['B'].value,'o')\n",
    "pl.xlabel(\"t\"), pl.ylabel(\"MSD(t)\");"
   ]
  },
  {
   "cell_type": "markdown",
   "metadata": {},
   "source": [
    "## Computing the Self Intermediate Scattering Function"
   ]
  },
  {
   "cell_type": "code",
   "execution_count": 128,
   "metadata": {
    "collapsed": true
   },
   "outputs": [],
   "source": [
    "isf = pp.Partial(pp.SelfIntermediateScattering, species=[\"A\"], trajectory= tj,kgrid=[2*pl.pi, 2.5*pl.pi],nk=1,tgrid=pl.logspace(0,3,base=10))\n",
    "isf.do()\n",
    "isf"
   ]
  },
  {
   "cell_type": "code",
   "execution_count": 119,
   "metadata": {
    "collapsed": true
   },
   "outputs": [],
   "source": [
    "# help(pp.SelfIntermediateScattering)"
   ]
  },
  {
   "cell_type": "code",
   "execution_count": 129,
   "metadata": {
    "collapsed": false
   },
   "outputs": [
    {
     "data": {
      "text/plain": [
       "[<matplotlib.lines.Line2D at 0x1153b4f50>]"
      ]
     },
     "execution_count": 129,
     "metadata": {},
     "output_type": "execute_result"
    },
    {
     "data": {
      "image/png": "[encoded data removed]",
      "text/plain": [
       "<Figure size 432x288 with 1 Axes>"
      ]
     },
     "metadata": {},
     "output_type": "display_data"
    }
   ],
   "source": [
    "pl.semilogx(isf.partial['A'].grid[1],isf.partial['A'].value[0],'-o') "
   ]
  },
  {
   "cell_type": "code",
   "execution_count": 124,
   "metadata": {
    "collapsed": false
   },
   "outputs": [
    {
     "data": {
      "text/plain": [
       "[1.0, 2.0, 5.0, 10.0, 22.0, 46.0, 100.0]"
      ]
     },
     "execution_count": 124,
     "metadata": {},
     "output_type": "execute_result"
    }
   ],
   "source": [
    "isf.partial['A'].grid[1]"
   ]
  },
  {
   "cell_type": "code",
   "execution_count": null,
   "metadata": {
    "collapsed": true
   },
   "outputs": [],
   "source": [
    "pl.imshow(isf.partial['A'].grid[1],isf.partial['A'].value[0])"
   ]
  },
  {
   "cell_type": "code",
   "execution_count": 18,
   "metadata": {
    "collapsed": false
   },
   "outputs": [],
   "source": [
    "class OrderParameter(pp.correlation.Correlation):\n",
    "    def __init__(self,trajectory,grid):\n",
    "#         self.grid = grid\n",
    "        pp.correlation.Correlation.__init__(self,trajectory,grid,phasespace=[\"pos\"])\n",
    "    \n",
    "    def _compute(self):\n",
    "        print \"Hello\"\n",
    "#         self.grid = self._pos\n",
    "#         self.value = self._pos[:,0]\n",
    "#         self.b = self._pos\n",
    "        \n",
    "        "
   ]
  },
  {
   "cell_type": "code",
   "execution_count": 19,
   "metadata": {
    "collapsed": false
   },
   "outputs": [
    {
     "name": "stdout",
     "output_type": "stream",
     "text": [
      "Hello\n"
     ]
    },
    {
     "data": {
      "text/plain": [
       "(None, [])"
      ]
     },
     "execution_count": 19,
     "metadata": {},
     "output_type": "execute_result"
    }
   ],
   "source": [
    "op = OrderParameter(tj,None)\n",
    "op.compute()"
   ]
  },
  {
   "cell_type": "code",
   "execution_count": 17,
   "metadata": {
    "collapsed": false
   },
   "outputs": [
    {
     "data": {
      "text/plain": [
       "atooms.postprocessing.correlation.Correlation"
      ]
     },
     "execution_count": 17,
     "metadata": {},
     "output_type": "execute_result"
    }
   ],
   "source": [
    "pp.correlation.Correlation"
   ]
  },
  {
   "cell_type": "code",
   "execution_count": null,
   "metadata": {
    "collapsed": true
   },
   "outputs": [],
   "source": []
  }
 ],
 "metadata": {
  "kernelspec": {
   "display_name": "Python 2",
   "language": "python",
   "name": "python2"
  },
  "language_info": {
   "codemirror_mode": {
    "name": "ipython",
    "version": 2
   },
   "file_extension": ".py",
   "mimetype": "text/x-python",
   "name": "python",
   "nbconvert_exporter": "python",
   "pygments_lexer": "ipython2",
   "version": "2.7.13"
  }
 },
 "nbformat": 4,
 "nbformat_minor": 2
}
